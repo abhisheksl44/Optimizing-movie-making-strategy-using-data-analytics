{
 "cells": [
  {
   "cell_type": "code",
   "execution_count": 265,
   "id": "d75c92bc-4de0-43c3-9b67-3a6e0fca2cd3",
   "metadata": {},
   "outputs": [],
   "source": [
    "import numpy as np\n",
    "import matplotlib.pyplot as plt\n",
    "import pandas as pd\n",
    "import seaborn as sn\n"
   ]
  },
  {
   "cell_type": "code",
   "execution_count": 269,
   "id": "0965a616-3fcb-47be-ab0c-8863a25d0496",
   "metadata": {},
   "outputs": [],
   "source": [
    "df2 = pd.read_csv(r\"C:\\Users\\ABHISHEK\\Desktop\\ANK casecom\\Datasetaacs.csv\")"
   ]
  },
  {
   "cell_type": "code",
   "execution_count": 271,
   "id": "5f5f7739-d2c5-4564-8ad2-8e24d6c95c8c",
   "metadata": {},
   "outputs": [
    {
     "data": {
      "text/html": [
       "<div>\n",
       "<style scoped>\n",
       "    .dataframe tbody tr th:only-of-type {\n",
       "        vertical-align: middle;\n",
       "    }\n",
       "\n",
       "    .dataframe tbody tr th {\n",
       "        vertical-align: top;\n",
       "    }\n",
       "\n",
       "    .dataframe thead th {\n",
       "        text-align: right;\n",
       "    }\n",
       "</style>\n",
       "<table border=\"1\" class=\"dataframe\">\n",
       "  <thead>\n",
       "    <tr style=\"text-align: right;\">\n",
       "      <th></th>\n",
       "      <th>id</th>\n",
       "      <th>title</th>\n",
       "      <th>vote_average</th>\n",
       "      <th>vote_count</th>\n",
       "      <th>status</th>\n",
       "      <th>release_date</th>\n",
       "      <th>revenue</th>\n",
       "      <th>runtime</th>\n",
       "      <th>adult</th>\n",
       "      <th>budget</th>\n",
       "      <th>...</th>\n",
       "      <th>genres</th>\n",
       "      <th>genresIdcreate</th>\n",
       "      <th>genresId</th>\n",
       "      <th>production_companies</th>\n",
       "      <th>production_countries</th>\n",
       "      <th>spoken_languages</th>\n",
       "      <th>directors</th>\n",
       "      <th>writers</th>\n",
       "      <th>averageRating</th>\n",
       "      <th>numVotes</th>\n",
       "    </tr>\n",
       "  </thead>\n",
       "  <tbody>\n",
       "    <tr>\n",
       "      <th>0</th>\n",
       "      <td>27205.0</td>\n",
       "      <td>Inception</td>\n",
       "      <td>8.364</td>\n",
       "      <td>34495.0</td>\n",
       "      <td>Released</td>\n",
       "      <td>15-07-2010</td>\n",
       "      <td>8.255328e+08</td>\n",
       "      <td>148.0</td>\n",
       "      <td>False</td>\n",
       "      <td>160000000.0</td>\n",
       "      <td>...</td>\n",
       "      <td>Action, Science Fiction, Adventure</td>\n",
       "      <td>\"Action, Science Fiction, Adventure\",</td>\n",
       "      <td>[{\"id\": 1, \"name\": \"Action\"}, {\"id\": 4, \"name\"...</td>\n",
       "      <td>Legendary Pictures, Syncopy, Warner Bros. Pict...</td>\n",
       "      <td>United Kingdom, United States of America</td>\n",
       "      <td>English, French, Japanese, Swahili</td>\n",
       "      <td>Christopher Nolan</td>\n",
       "      <td>Christopher Nolan</td>\n",
       "      <td>8.8</td>\n",
       "      <td>2616409.0</td>\n",
       "    </tr>\n",
       "    <tr>\n",
       "      <th>1</th>\n",
       "      <td>157336.0</td>\n",
       "      <td>Interstellar</td>\n",
       "      <td>8.417</td>\n",
       "      <td>32571.0</td>\n",
       "      <td>Released</td>\n",
       "      <td>05-11-2014</td>\n",
       "      <td>7.017292e+08</td>\n",
       "      <td>169.0</td>\n",
       "      <td>False</td>\n",
       "      <td>165000000.0</td>\n",
       "      <td>...</td>\n",
       "      <td>Adventure, Drama, Science Fiction</td>\n",
       "      <td>\"Adventure, Drama, Science Fiction\",</td>\n",
       "      <td>[{\"id\": 2, \"name\": \"Adventure\"}, {\"id\": 5, \"na...</td>\n",
       "      <td>Legendary Pictures, Syncopy, Lynda Obst Produc...</td>\n",
       "      <td>United Kingdom, United States of America</td>\n",
       "      <td>English</td>\n",
       "      <td>Christopher Nolan</td>\n",
       "      <td>Jonathan Nolan, Christopher Nolan</td>\n",
       "      <td>8.7</td>\n",
       "      <td>2203559.0</td>\n",
       "    </tr>\n",
       "    <tr>\n",
       "      <th>2</th>\n",
       "      <td>155.0</td>\n",
       "      <td>The Dark Knight</td>\n",
       "      <td>8.512</td>\n",
       "      <td>30619.0</td>\n",
       "      <td>Released</td>\n",
       "      <td>16-07-2008</td>\n",
       "      <td>1.004558e+09</td>\n",
       "      <td>152.0</td>\n",
       "      <td>False</td>\n",
       "      <td>185000000.0</td>\n",
       "      <td>...</td>\n",
       "      <td>Drama, Action, Crime, Thriller</td>\n",
       "      <td>\"Drama, Action, Crime, Thriller\",</td>\n",
       "      <td>[{\"id\": 5, \"name\": \"Drama\"}, {\"id\": 1, \"name\":...</td>\n",
       "      <td>DC Comics, Legendary Pictures, Syncopy, Isobel...</td>\n",
       "      <td>United Kingdom, United States of America</td>\n",
       "      <td>English, Mandarin</td>\n",
       "      <td>Christopher Nolan</td>\n",
       "      <td>Jonathan Nolan, Christopher Nolan, David S. Go...</td>\n",
       "      <td>9.0</td>\n",
       "      <td>2948574.0</td>\n",
       "    </tr>\n",
       "    <tr>\n",
       "      <th>3</th>\n",
       "      <td>19995.0</td>\n",
       "      <td>Avatar</td>\n",
       "      <td>7.573</td>\n",
       "      <td>29815.0</td>\n",
       "      <td>Released</td>\n",
       "      <td>15-12-2009</td>\n",
       "      <td>2.923706e+09</td>\n",
       "      <td>162.0</td>\n",
       "      <td>False</td>\n",
       "      <td>237000000.0</td>\n",
       "      <td>...</td>\n",
       "      <td>Action, Adventure, Fantasy, Science Fiction</td>\n",
       "      <td>\"Action, Adventure, Fantasy, Science Fiction\",</td>\n",
       "      <td>[{\"id\": 1, \"name\": \"Action\"}, {\"id\": 2, \"name\"...</td>\n",
       "      <td>Dune Entertainment, Lightstorm Entertainment, ...</td>\n",
       "      <td>United States of America, United Kingdom</td>\n",
       "      <td>English, Spanish</td>\n",
       "      <td>James Cameron</td>\n",
       "      <td>James Cameron</td>\n",
       "      <td>7.9</td>\n",
       "      <td>1409608.0</td>\n",
       "    </tr>\n",
       "    <tr>\n",
       "      <th>4</th>\n",
       "      <td>24428.0</td>\n",
       "      <td>The Avengers</td>\n",
       "      <td>7.710</td>\n",
       "      <td>29166.0</td>\n",
       "      <td>Released</td>\n",
       "      <td>25-04-2012</td>\n",
       "      <td>1.518816e+09</td>\n",
       "      <td>143.0</td>\n",
       "      <td>False</td>\n",
       "      <td>220000000.0</td>\n",
       "      <td>...</td>\n",
       "      <td>Science Fiction, Action, Adventure</td>\n",
       "      <td>\"Science Fiction, Action, Adventure\",</td>\n",
       "      <td>[{\"id\": 4, \"name\": \"Science Fiction\"}, {\"id\": ...</td>\n",
       "      <td>Marvel Studios</td>\n",
       "      <td>United States of America</td>\n",
       "      <td>English, Hindi, Russian</td>\n",
       "      <td>Joss Whedon</td>\n",
       "      <td>Joss Whedon, Zak Penn</td>\n",
       "      <td>8.0</td>\n",
       "      <td>1484397.0</td>\n",
       "    </tr>\n",
       "  </tbody>\n",
       "</table>\n",
       "<p>5 rows × 25 columns</p>\n",
       "</div>"
      ],
      "text/plain": [
       "         id            title  vote_average  vote_count    status release_date  \\\n",
       "0   27205.0        Inception         8.364     34495.0  Released   15-07-2010   \n",
       "1  157336.0     Interstellar         8.417     32571.0  Released   05-11-2014   \n",
       "2     155.0  The Dark Knight         8.512     30619.0  Released   16-07-2008   \n",
       "3   19995.0           Avatar         7.573     29815.0  Released   15-12-2009   \n",
       "4   24428.0     The Avengers         7.710     29166.0  Released   25-04-2012   \n",
       "\n",
       "        revenue  runtime  adult       budget  ...  \\\n",
       "0  8.255328e+08    148.0  False  160000000.0  ...   \n",
       "1  7.017292e+08    169.0  False  165000000.0  ...   \n",
       "2  1.004558e+09    152.0  False  185000000.0  ...   \n",
       "3  2.923706e+09    162.0  False  237000000.0  ...   \n",
       "4  1.518816e+09    143.0  False  220000000.0  ...   \n",
       "\n",
       "                                        genres  \\\n",
       "0           Action, Science Fiction, Adventure   \n",
       "1            Adventure, Drama, Science Fiction   \n",
       "2               Drama, Action, Crime, Thriller   \n",
       "3  Action, Adventure, Fantasy, Science Fiction   \n",
       "4           Science Fiction, Action, Adventure   \n",
       "\n",
       "                                   genresIdcreate  \\\n",
       "0           \"Action, Science Fiction, Adventure\",   \n",
       "1            \"Adventure, Drama, Science Fiction\",   \n",
       "2               \"Drama, Action, Crime, Thriller\",   \n",
       "3  \"Action, Adventure, Fantasy, Science Fiction\",   \n",
       "4           \"Science Fiction, Action, Adventure\",   \n",
       "\n",
       "                                            genresId  \\\n",
       "0  [{\"id\": 1, \"name\": \"Action\"}, {\"id\": 4, \"name\"...   \n",
       "1  [{\"id\": 2, \"name\": \"Adventure\"}, {\"id\": 5, \"na...   \n",
       "2  [{\"id\": 5, \"name\": \"Drama\"}, {\"id\": 1, \"name\":...   \n",
       "3  [{\"id\": 1, \"name\": \"Action\"}, {\"id\": 2, \"name\"...   \n",
       "4  [{\"id\": 4, \"name\": \"Science Fiction\"}, {\"id\": ...   \n",
       "\n",
       "                                production_companies  \\\n",
       "0  Legendary Pictures, Syncopy, Warner Bros. Pict...   \n",
       "1  Legendary Pictures, Syncopy, Lynda Obst Produc...   \n",
       "2  DC Comics, Legendary Pictures, Syncopy, Isobel...   \n",
       "3  Dune Entertainment, Lightstorm Entertainment, ...   \n",
       "4                                     Marvel Studios   \n",
       "\n",
       "                       production_countries  \\\n",
       "0  United Kingdom, United States of America   \n",
       "1  United Kingdom, United States of America   \n",
       "2  United Kingdom, United States of America   \n",
       "3  United States of America, United Kingdom   \n",
       "4                  United States of America   \n",
       "\n",
       "                     spoken_languages          directors  \\\n",
       "0  English, French, Japanese, Swahili  Christopher Nolan   \n",
       "1                             English  Christopher Nolan   \n",
       "2                   English, Mandarin  Christopher Nolan   \n",
       "3                    English, Spanish      James Cameron   \n",
       "4             English, Hindi, Russian        Joss Whedon   \n",
       "\n",
       "                                             writers averageRating   numVotes  \n",
       "0                                  Christopher Nolan           8.8  2616409.0  \n",
       "1                  Jonathan Nolan, Christopher Nolan           8.7  2203559.0  \n",
       "2  Jonathan Nolan, Christopher Nolan, David S. Go...           9.0  2948574.0  \n",
       "3                                      James Cameron           7.9  1409608.0  \n",
       "4                              Joss Whedon, Zak Penn           8.0  1484397.0  \n",
       "\n",
       "[5 rows x 25 columns]"
      ]
     },
     "execution_count": 271,
     "metadata": {},
     "output_type": "execute_result"
    }
   ],
   "source": [
    "df2.head()"
   ]
  },
  {
   "cell_type": "code",
   "execution_count": 273,
   "id": "f69323b4-a419-4777-992c-11d1405b26c9",
   "metadata": {},
   "outputs": [
    {
     "data": {
      "text/plain": [
       "6.755584799999999"
      ]
     },
     "execution_count": 273,
     "metadata": {},
     "output_type": "execute_result"
    }
   ],
   "source": [
    "C= df2['vote_average'].mean()\n",
    "C"
   ]
  },
  {
   "cell_type": "code",
   "execution_count": 275,
   "id": "bc0592d1-ac97-4038-a7fb-5e513d2d0184",
   "metadata": {},
   "outputs": [
    {
     "data": {
      "text/plain": [
       "7000.300000000005"
      ]
     },
     "execution_count": 275,
     "metadata": {},
     "output_type": "execute_result"
    }
   ],
   "source": [
    "m= df2['vote_count'].quantile(0.9)\n",
    "m"
   ]
  },
  {
   "cell_type": "code",
   "execution_count": 277,
   "id": "62743664-7f2e-4678-8dfe-3b343721a732",
   "metadata": {},
   "outputs": [
    {
     "data": {
      "text/plain": [
       "(500, 25)"
      ]
     },
     "execution_count": 277,
     "metadata": {},
     "output_type": "execute_result"
    }
   ],
   "source": [
    "q_movies = df2.copy().loc[df2['vote_count'] >= m]\n",
    "q_movies.shape"
   ]
  },
  {
   "cell_type": "code",
   "execution_count": 279,
   "id": "0417bd44-6ac4-4e88-bd1a-4dee47241a7a",
   "metadata": {},
   "outputs": [],
   "source": [
    "def weighted_rating(x, m=m, C=C):\n",
    "    v = x['vote_count']\n",
    "    R = x['vote_average']\n",
    "    # Calculation based on the IMDB formula\n",
    "    return (v/(v+m) * R) + (m/(m+v) * C)"
   ]
  },
  {
   "cell_type": "code",
   "execution_count": 281,
   "id": "6ca71981-fb13-4eea-b606-4b3fc9e866c9",
   "metadata": {},
   "outputs": [],
   "source": [
    "q_movies['score'] = q_movies.apply(weighted_rating, axis=1)"
   ]
  },
  {
   "cell_type": "code",
   "execution_count": 283,
   "id": "a74a4138-acfa-4dc8-8873-79149d1a1349",
   "metadata": {},
   "outputs": [
    {
     "data": {
      "text/html": [
       "<div>\n",
       "<style scoped>\n",
       "    .dataframe tbody tr th:only-of-type {\n",
       "        vertical-align: middle;\n",
       "    }\n",
       "\n",
       "    .dataframe tbody tr th {\n",
       "        vertical-align: top;\n",
       "    }\n",
       "\n",
       "    .dataframe thead th {\n",
       "        text-align: right;\n",
       "    }\n",
       "</style>\n",
       "<table border=\"1\" class=\"dataframe\">\n",
       "  <thead>\n",
       "    <tr style=\"text-align: right;\">\n",
       "      <th></th>\n",
       "      <th>title</th>\n",
       "      <th>vote_count</th>\n",
       "      <th>vote_average</th>\n",
       "      <th>score</th>\n",
       "    </tr>\n",
       "  </thead>\n",
       "  <tbody>\n",
       "    <tr>\n",
       "      <th>14</th>\n",
       "      <td>The Shawshank Redemption</td>\n",
       "      <td>24649.0</td>\n",
       "      <td>8.702</td>\n",
       "      <td>8.271485</td>\n",
       "    </tr>\n",
       "    <tr>\n",
       "      <th>2</th>\n",
       "      <td>The Dark Knight</td>\n",
       "      <td>30619.0</td>\n",
       "      <td>8.512</td>\n",
       "      <td>8.185162</td>\n",
       "    </tr>\n",
       "    <tr>\n",
       "      <th>53</th>\n",
       "      <td>The Godfather</td>\n",
       "      <td>18677.0</td>\n",
       "      <td>8.707</td>\n",
       "      <td>8.174993</td>\n",
       "    </tr>\n",
       "    <tr>\n",
       "      <th>1</th>\n",
       "      <td>Interstellar</td>\n",
       "      <td>32571.0</td>\n",
       "      <td>8.417</td>\n",
       "      <td>8.123090</td>\n",
       "    </tr>\n",
       "    <tr>\n",
       "      <th>9</th>\n",
       "      <td>Pulp Fiction</td>\n",
       "      <td>25893.0</td>\n",
       "      <td>8.488</td>\n",
       "      <td>8.119310</td>\n",
       "    </tr>\n",
       "    <tr>\n",
       "      <th>10</th>\n",
       "      <td>Forrest Gump</td>\n",
       "      <td>25409.0</td>\n",
       "      <td>8.477</td>\n",
       "      <td>8.105180</td>\n",
       "    </tr>\n",
       "    <tr>\n",
       "      <th>7</th>\n",
       "      <td>Fight Club</td>\n",
       "      <td>27238.0</td>\n",
       "      <td>8.438</td>\n",
       "      <td>8.094016</td>\n",
       "    </tr>\n",
       "    <tr>\n",
       "      <th>0</th>\n",
       "      <td>Inception</td>\n",
       "      <td>34495.0</td>\n",
       "      <td>8.364</td>\n",
       "      <td>8.092659</td>\n",
       "    </tr>\n",
       "    <tr>\n",
       "      <th>20</th>\n",
       "      <td>The Lord of the Rings: The Return of the King</td>\n",
       "      <td>22334.0</td>\n",
       "      <td>8.474</td>\n",
       "      <td>8.063920</td>\n",
       "    </tr>\n",
       "    <tr>\n",
       "      <th>19</th>\n",
       "      <td>The Lord of the Rings: The Fellowship of the Ring</td>\n",
       "      <td>23323.0</td>\n",
       "      <td>8.402</td>\n",
       "      <td>8.021916</td>\n",
       "    </tr>\n",
       "  </tbody>\n",
       "</table>\n",
       "</div>"
      ],
      "text/plain": [
       "                                                title  vote_count  \\\n",
       "14                           The Shawshank Redemption     24649.0   \n",
       "2                                     The Dark Knight     30619.0   \n",
       "53                                      The Godfather     18677.0   \n",
       "1                                        Interstellar     32571.0   \n",
       "9                                        Pulp Fiction     25893.0   \n",
       "10                                       Forrest Gump     25409.0   \n",
       "7                                          Fight Club     27238.0   \n",
       "0                                           Inception     34495.0   \n",
       "20      The Lord of the Rings: The Return of the King     22334.0   \n",
       "19  The Lord of the Rings: The Fellowship of the Ring     23323.0   \n",
       "\n",
       "    vote_average     score  \n",
       "14         8.702  8.271485  \n",
       "2          8.512  8.185162  \n",
       "53         8.707  8.174993  \n",
       "1          8.417  8.123090  \n",
       "9          8.488  8.119310  \n",
       "10         8.477  8.105180  \n",
       "7          8.438  8.094016  \n",
       "0          8.364  8.092659  \n",
       "20         8.474  8.063920  \n",
       "19         8.402  8.021916  "
      ]
     },
     "execution_count": 283,
     "metadata": {},
     "output_type": "execute_result"
    }
   ],
   "source": [
    "#Sort movies based on score calculated above\n",
    "q_movies = q_movies.sort_values('score', ascending=False)\n",
    "\n",
    "#Print the top 15 movies\n",
    "q_movies[['title', 'vote_count', 'vote_average', 'score']].head(10)"
   ]
  },
  {
   "cell_type": "code",
   "execution_count": 285,
   "id": "b45e07cf-efb9-489b-896c-7a6c6e688f0d",
   "metadata": {},
   "outputs": [
    {
     "data": {
      "text/plain": [
       "Text(0.5, 1.0, 'Popular Movies')"
      ]
     },
     "execution_count": 285,
     "metadata": {},
     "output_type": "execute_result"
    },
    {
     "data": {
      "image/png": "[encoded data removed]",
      "text/plain": [
       "<Figure size 1200x400 with 1 Axes>"
      ]
     },
     "metadata": {},
     "output_type": "display_data"
    }
   ],
   "source": [
    "pop= df2.sort_values('popularity', ascending=False)\n",
    "import matplotlib.pyplot as plt\n",
    "plt.figure(figsize=(12,4))\n",
    "\n",
    "plt.barh(pop['title'].head(6),pop['popularity'].head(6), align='center',\n",
    "        color='skyblue')\n",
    "plt.gca().invert_yaxis()\n",
    "plt.xlabel(\"Popularity\")\n",
    "plt.title(\"Popular Movies\")"
   ]
  },
  {
   "cell_type": "code",
   "execution_count": 287,
   "id": "9815b020-eab5-44c2-8e5b-c9bd12ff267f",
   "metadata": {},
   "outputs": [
    {
     "data": {
      "text/plain": [
       "(26419, 19735)"
      ]
     },
     "execution_count": 287,
     "metadata": {},
     "output_type": "execute_result"
    }
   ],
   "source": [
    "#Import TfIdfVectorizer from scikit-learn\n",
    "from sklearn.feature_extraction.text import TfidfVectorizer\n",
    "\n",
    "#Define a TF-IDF Vectorizer Object. Remove all english stop words such as 'the', 'a'\n",
    "tfidf = TfidfVectorizer(stop_words='english')\n",
    "\n",
    "#Replace NaN with an empty string\n",
    "df2['overview'] = df2['overview'].fillna('')\n",
    "\n",
    "#Construct the required TF-IDF matrix by fitting and transforming the data\n",
    "tfidf_matrix = tfidf.fit_transform(df2['overview'])\n",
    "\n",
    "#Output the shape of tfidf_matrix\n",
    "tfidf_matrix.shape"
   ]
  },
  {
   "cell_type": "code",
   "execution_count": 289,
   "id": "8c47b06b-48f6-419f-be80-b1f7626b56fa",
   "metadata": {},
   "outputs": [],
   "source": [
    "# Import linear_kernel\n",
    "from sklearn.metrics.pairwise import linear_kernel\n",
    "\n",
    "# Compute the cosine similarity matrix\n",
    "cosine_sim = linear_kernel(tfidf_matrix, tfidf_matrix)"
   ]
  },
  {
   "cell_type": "code",
   "execution_count": 291,
   "id": "7a2b83c0-19c9-4da0-b222-0d26a258ee69",
   "metadata": {},
   "outputs": [],
   "source": [
    "#Construct a reverse map of indices and movie titles\n",
    "indices = pd.Series(df2.index, index=df2['title']).drop_duplicates()"
   ]
  },
  {
   "cell_type": "code",
   "execution_count": 293,
   "id": "be61d9f5-a3b4-442a-b342-0516525380ee",
   "metadata": {},
   "outputs": [],
   "source": [
    "# Function that takes in movie title as input and outputs most similar movies\n",
    "def get_recommendations(title, cosine_sim=cosine_sim):\n",
    "    # Get the index of the movie that matches the title\n",
    "    idx = indices[title]\n",
    "\n",
    "    # Get the pairwsie similarity scores of all movies with that movie\n",
    "    sim_scores = list(enumerate(cosine_sim[idx]))\n",
    "\n",
    "    # Sort the movies based on the similarity scores\n",
    "    sim_scores = sorted(sim_scores, key=lambda x: x[1], reverse=True)\n",
    "\n",
    "    # Get the scores of the 10 most similar movies\n",
    "    sim_scores = sim_scores[1:11]\n",
    "\n",
    "    # Get the movie indices\n",
    "    movie_indices = [i[0] for i in sim_scores]\n",
    "\n",
    "    # Return the top 10 most similar movies\n",
    "    return df2['title'].iloc[movie_indices]"
   ]
  },
  {
   "cell_type": "code",
   "execution_count": 295,
   "id": "5ff32e39-c5cf-4322-9008-ed8ecdaca233",
   "metadata": {},
   "outputs": [
    {
     "data": {
      "text/plain": [
       "2                               The Dark Knight\n",
       "3978                        Justice League Dark\n",
       "366                                  The Batman\n",
       "879                              Batman Forever\n",
       "2876    Batman: The Dark Knight Returns, Part 1\n",
       "912                              Batman & Robin\n",
       "3850         Batman Beyond: Return of the Joker\n",
       "2867                 Batman: Under the Red Hood\n",
       "4550                          Batman: Bad Blood\n",
       "4698                               Batman: Hush\n",
       "Name: title, dtype: object"
      ]
     },
     "execution_count": 295,
     "metadata": {},
     "output_type": "execute_result"
    }
   ],
   "source": [
    "get_recommendations('The Dark Knight Rises')"
   ]
  },
  {
   "cell_type": "code",
   "execution_count": 301,
   "id": "e298eeb9-2dd3-41ac-889b-1bac072c618e",
   "metadata": {},
   "outputs": [],
   "source": [
    "from ast import literal_eval\n",
    "\n",
    "features = ['genresId']\n",
    "for feature in features:\n",
    "    df2[feature] = df2[feature].apply(lambda x: literal_eval(x) if isinstance(x, str) else [])\n"
   ]
  },
  {
   "cell_type": "code",
   "execution_count": 359,
   "id": "4c927cf8-4084-49b4-819a-f829a6f6932c",
   "metadata": {
    "scrolled": true
   },
   "outputs": [
    {
     "data": {
      "text/html": [
       "<div>\n",
       "<style scoped>\n",
       "    .dataframe tbody tr th:only-of-type {\n",
       "        vertical-align: middle;\n",
       "    }\n",
       "\n",
       "    .dataframe tbody tr th {\n",
       "        vertical-align: top;\n",
       "    }\n",
       "\n",
       "    .dataframe thead th {\n",
       "        text-align: right;\n",
       "    }\n",
       "</style>\n",
       "<table border=\"1\" class=\"dataframe\">\n",
       "  <thead>\n",
       "    <tr style=\"text-align: right;\">\n",
       "      <th></th>\n",
       "      <th>title</th>\n",
       "      <th>genresId</th>\n",
       "    </tr>\n",
       "  </thead>\n",
       "  <tbody>\n",
       "    <tr>\n",
       "      <th>0</th>\n",
       "      <td>Inception</td>\n",
       "      <td>[{'id': 1, 'name': 'Action'}, {'id': 4, 'name'...</td>\n",
       "    </tr>\n",
       "    <tr>\n",
       "      <th>1</th>\n",
       "      <td>Interstellar</td>\n",
       "      <td>[{'id': 2, 'name': 'Adventure'}, {'id': 5, 'na...</td>\n",
       "    </tr>\n",
       "    <tr>\n",
       "      <th>2</th>\n",
       "      <td>The Dark Knight</td>\n",
       "      <td>[{'id': 5, 'name': 'Drama'}, {'id': 1, 'name':...</td>\n",
       "    </tr>\n",
       "    <tr>\n",
       "      <th>3</th>\n",
       "      <td>Avatar</td>\n",
       "      <td>[{'id': 1, 'name': 'Action'}, {'id': 2, 'name'...</td>\n",
       "    </tr>\n",
       "    <tr>\n",
       "      <th>4</th>\n",
       "      <td>The Avengers</td>\n",
       "      <td>[{'id': 4, 'name': 'Science Fiction'}, {'id': ...</td>\n",
       "    </tr>\n",
       "    <tr>\n",
       "      <th>5</th>\n",
       "      <td>Deadpool</td>\n",
       "      <td>[{'id': 1, 'name': 'Action'}, {'id': 2, 'name'...</td>\n",
       "    </tr>\n",
       "    <tr>\n",
       "      <th>6</th>\n",
       "      <td>Avengers: Infinity War</td>\n",
       "      <td>[{'id': 2, 'name': 'Adventure'}, {'id': 1, 'na...</td>\n",
       "    </tr>\n",
       "    <tr>\n",
       "      <th>7</th>\n",
       "      <td>Fight Club</td>\n",
       "      <td>[{'id': 5, 'name': 'Drama'}]</td>\n",
       "    </tr>\n",
       "    <tr>\n",
       "      <th>8</th>\n",
       "      <td>Guardians of the Galaxy</td>\n",
       "      <td>[{'id': 1, 'name': 'Action'}, {'id': 4, 'name'...</td>\n",
       "    </tr>\n",
       "    <tr>\n",
       "      <th>9</th>\n",
       "      <td>Pulp Fiction</td>\n",
       "      <td>[{'id': 7, 'name': 'Thriller'}, {'id': 6, 'nam...</td>\n",
       "    </tr>\n",
       "  </tbody>\n",
       "</table>\n",
       "</div>"
      ],
      "text/plain": [
       "                     title                                           genresId\n",
       "0                Inception  [{'id': 1, 'name': 'Action'}, {'id': 4, 'name'...\n",
       "1             Interstellar  [{'id': 2, 'name': 'Adventure'}, {'id': 5, 'na...\n",
       "2          The Dark Knight  [{'id': 5, 'name': 'Drama'}, {'id': 1, 'name':...\n",
       "3                   Avatar  [{'id': 1, 'name': 'Action'}, {'id': 2, 'name'...\n",
       "4             The Avengers  [{'id': 4, 'name': 'Science Fiction'}, {'id': ...\n",
       "5                 Deadpool  [{'id': 1, 'name': 'Action'}, {'id': 2, 'name'...\n",
       "6   Avengers: Infinity War  [{'id': 2, 'name': 'Adventure'}, {'id': 1, 'na...\n",
       "7               Fight Club                       [{'id': 5, 'name': 'Drama'}]\n",
       "8  Guardians of the Galaxy  [{'id': 1, 'name': 'Action'}, {'id': 4, 'name'...\n",
       "9             Pulp Fiction  [{'id': 7, 'name': 'Thriller'}, {'id': 6, 'nam..."
      ]
     },
     "execution_count": 359,
     "metadata": {},
     "output_type": "execute_result"
    }
   ],
   "source": [
    "# Print the new features of the first 3 films\n",
    "df2[['title','genresId']].head(10)"
   ]
  },
  {
   "cell_type": "code",
   "execution_count": 307,
   "id": "2c9a0b5f-4420-46bc-879f-e6ddc91c68c5",
   "metadata": {},
   "outputs": [],
   "source": [
    "def get_director(x):\n",
    "    for i in x:\n",
    "        if i['job'] == 'Director':\n",
    "            return i['name']\n",
    "    return np.nan"
   ]
  },
  {
   "cell_type": "code",
   "execution_count": 309,
   "id": "d93e7a16-2913-4c1a-bae9-aed134bfe3c7",
   "metadata": {},
   "outputs": [],
   "source": [
    "def get_list(x):\n",
    "    if isinstance(x, list):\n",
    "        names = [i['name'] for i in x]\n",
    "        #Check if more than 3 elements exist. If yes, return only first three. If no, return entire list.\n",
    "        if len(names) > 3:\n",
    "            names = names[:3]\n",
    "        return names\n",
    "\n",
    "    #Return empty list in case of missing/malformed data\n",
    "    return []"
   ]
  },
  {
   "cell_type": "code",
   "execution_count": 233,
   "id": "ce0c0d72-ae34-4088-aa78-216f52a1c896",
   "metadata": {},
   "outputs": [],
   "source": [
    "# Define new director, cast, genres and keywords features that are in a suitable form.\n",
    "#df2['director'] = df2['crew'].apply(get_director)\n",
    "\n",
    "features = ['genres']\n",
    "for feature in features:\n",
    "    df2[feature] = df2[feature].apply(get_list)"
   ]
  },
  {
   "cell_type": "code",
   "execution_count": 435,
   "id": "00b15527-e167-4912-a98f-2dc29cf0c514",
   "metadata": {},
   "outputs": [
    {
     "data": {
      "text/html": [
       "<div>\n",
       "<style scoped>\n",
       "    .dataframe tbody tr th:only-of-type {\n",
       "        vertical-align: middle;\n",
       "    }\n",
       "\n",
       "    .dataframe tbody tr th {\n",
       "        vertical-align: top;\n",
       "    }\n",
       "\n",
       "    .dataframe thead th {\n",
       "        text-align: right;\n",
       "    }\n",
       "</style>\n",
       "<table border=\"1\" class=\"dataframe\">\n",
       "  <thead>\n",
       "    <tr style=\"text-align: right;\">\n",
       "      <th></th>\n",
       "      <th>title</th>\n",
       "      <th>directors</th>\n",
       "      <th>genresId</th>\n",
       "    </tr>\n",
       "  </thead>\n",
       "  <tbody>\n",
       "    <tr>\n",
       "      <th>0</th>\n",
       "      <td>Inception</td>\n",
       "      <td>Christopher Nolan</td>\n",
       "      <td>[]</td>\n",
       "    </tr>\n",
       "    <tr>\n",
       "      <th>1</th>\n",
       "      <td>Interstellar</td>\n",
       "      <td>Christopher Nolan</td>\n",
       "      <td>[]</td>\n",
       "    </tr>\n",
       "    <tr>\n",
       "      <th>2</th>\n",
       "      <td>The Dark Knight</td>\n",
       "      <td>Christopher Nolan</td>\n",
       "      <td>[]</td>\n",
       "    </tr>\n",
       "    <tr>\n",
       "      <th>3</th>\n",
       "      <td>Avatar</td>\n",
       "      <td>James Cameron</td>\n",
       "      <td>[]</td>\n",
       "    </tr>\n",
       "    <tr>\n",
       "      <th>4</th>\n",
       "      <td>The Avengers</td>\n",
       "      <td>Joss Whedon</td>\n",
       "      <td>[]</td>\n",
       "    </tr>\n",
       "    <tr>\n",
       "      <th>5</th>\n",
       "      <td>Deadpool</td>\n",
       "      <td>Tim Miller</td>\n",
       "      <td>[]</td>\n",
       "    </tr>\n",
       "    <tr>\n",
       "      <th>6</th>\n",
       "      <td>Avengers: Infinity War</td>\n",
       "      <td>Anthony Russo, Joe Russo</td>\n",
       "      <td>[]</td>\n",
       "    </tr>\n",
       "    <tr>\n",
       "      <th>7</th>\n",
       "      <td>Fight Club</td>\n",
       "      <td>David Fincher</td>\n",
       "      <td>[]</td>\n",
       "    </tr>\n",
       "    <tr>\n",
       "      <th>8</th>\n",
       "      <td>Guardians of the Galaxy</td>\n",
       "      <td>James Gunn</td>\n",
       "      <td>[]</td>\n",
       "    </tr>\n",
       "    <tr>\n",
       "      <th>9</th>\n",
       "      <td>Pulp Fiction</td>\n",
       "      <td>Quentin Tarantino</td>\n",
       "      <td>[]</td>\n",
       "    </tr>\n",
       "  </tbody>\n",
       "</table>\n",
       "</div>"
      ],
      "text/plain": [
       "                     title                 directors genresId\n",
       "0                Inception         Christopher Nolan       []\n",
       "1             Interstellar         Christopher Nolan       []\n",
       "2          The Dark Knight         Christopher Nolan       []\n",
       "3                   Avatar             James Cameron       []\n",
       "4             The Avengers               Joss Whedon       []\n",
       "5                 Deadpool                Tim Miller       []\n",
       "6   Avengers: Infinity War  Anthony Russo, Joe Russo       []\n",
       "7               Fight Club             David Fincher       []\n",
       "8  Guardians of the Galaxy                James Gunn       []\n",
       "9             Pulp Fiction         Quentin Tarantino       []"
      ]
     },
     "execution_count": 435,
     "metadata": {},
     "output_type": "execute_result"
    }
   ],
   "source": [
    "# Print the new features of the first 3 films\n",
    "df2[['title','directors','genresId']].head(10)"
   ]
  },
  {
   "cell_type": "code",
   "execution_count": 313,
   "id": "53ee5d9f-3635-4ad5-86b9-2436fad5cc8b",
   "metadata": {},
   "outputs": [],
   "source": [
    "def clean_data(x):\n",
    "    if isinstance(x, list):\n",
    "        return [str.lower(i.replace(\" \", \"\")) for i in x]\n",
    "    else:\n",
    "        #Check if director exists. If not, return empty string\n",
    "        if isinstance(x, str):\n",
    "            return str.lower(x.replace(\" \", \"\"))\n",
    "        else:\n",
    "            return ''"
   ]
  },
  {
   "cell_type": "code",
   "execution_count": 317,
   "id": "1380cb0b-993f-4ed6-b930-2ac23afe9505",
   "metadata": {},
   "outputs": [],
   "source": [
    "# Apply clean_data function to your features.\n",
    "features = ['genres']\n",
    "\n",
    "for feature in features:\n",
    "    df2[feature] = df2[feature].apply(clean_data)"
   ]
  },
  {
   "cell_type": "code",
   "execution_count": 319,
   "id": "69274267-ca25-4ad4-9512-d63dc6d35a99",
   "metadata": {},
   "outputs": [],
   "source": [
    "def create_soup(x):\n",
    "  return (x['genres'])\n",
    "df2['soup'] = df2.apply(create_soup, axis=1)"
   ]
  },
  {
   "cell_type": "code",
   "execution_count": 321,
   "id": "20a1ab5e-7673-4d40-8e2e-210c84f893b7",
   "metadata": {},
   "outputs": [],
   "source": [
    "from sklearn.feature_extraction.text import CountVectorizer\n",
    "\n",
    "count = CountVectorizer(stop_words='english')\n",
    "count_matrix = count.fit_transform(df2['soup'])"
   ]
  },
  {
   "cell_type": "code",
   "execution_count": 329,
   "id": "50d16128-36b5-4cbe-bc3a-91217f925a3d",
   "metadata": {},
   "outputs": [],
   "source": [
    "# Compute the Cosine Similarity matrix based on the count_matrix\n",
    "from sklearn.metrics.pairwise import cosine_similarity\n",
    "\n",
    "cosine_sim2 = cosine_similarity(count_matrix, count_matrix)"
   ]
  },
  {
   "cell_type": "code",
   "execution_count": 331,
   "id": "38a2ee00-911e-435f-ae30-03346e105050",
   "metadata": {},
   "outputs": [],
   "source": [
    "# Reset index of our main DataFrame and construct reverse mapping as before\n",
    "df2 = df2.reset_index()\n",
    "indices = pd.Series(df2.index, index=df2['title'])"
   ]
  },
  {
   "cell_type": "code",
   "execution_count": 333,
   "id": "68850a61-34ad-4c12-adbd-d42a589fa940",
   "metadata": {},
   "outputs": [
    {
     "data": {
      "text/plain": [
       "25                      The Dark Knight Rises\n",
       "535                            Fast & Furious\n",
       "565                              Jack Reacher\n",
       "606     The Fast and the Furious: Tokyo Drift\n",
       "944           El Camino: A Breaking Bad Movie\n",
       "1055                           Need for Speed\n",
       "1146                           Gangster Squad\n",
       "1857                               Colombiana\n",
       "1859                               Death Wish\n",
       "2231                               Contraband\n",
       "Name: title, dtype: object"
      ]
     },
     "execution_count": 333,
     "metadata": {},
     "output_type": "execute_result"
    }
   ],
   "source": [
    "get_recommendations('The Dark Knight Rises', cosine_sim2)"
   ]
  },
  {
   "cell_type": "code",
   "execution_count": 335,
   "id": "aecfea3d-4a5f-41f9-a845-11ca0f63eccb",
   "metadata": {},
   "outputs": [
    {
     "name": "stdout",
     "output_type": "stream",
     "text": [
      "Requirement already satisfied: scikit-surprise in c:\\users\\abhishek\\anaconda3\\lib\\site-packages (1.1.4)\n",
      "Requirement already satisfied: joblib>=1.2.0 in c:\\users\\abhishek\\anaconda3\\lib\\site-packages (from scikit-surprise) (1.4.2)\n",
      "Requirement already satisfied: numpy>=1.19.5 in c:\\users\\abhishek\\anaconda3\\lib\\site-packages (from scikit-surprise) (1.26.4)\n",
      "Requirement already satisfied: scipy>=1.6.0 in c:\\users\\abhishek\\anaconda3\\lib\\site-packages (from scikit-surprise) (1.13.1)\n"
     ]
    }
   ],
   "source": [
    "!pip install scikit-surprise\n",
    "from surprise import Reader, Dataset, SVD\n",
    "# read in values as Surprise dataset\n",
    "reader = Reader()\n",
    "#data = Dataset.load_from_df(new_df, reader)"
   ]
  },
  {
   "cell_type": "code",
   "execution_count": 343,
   "id": "cfc62a19-9154-48f0-ad51-a0abbbd08065",
   "metadata": {},
   "outputs": [],
   "source": [
    "data = Dataset.load_from_df(df2[['id', 'title', 'averageRating']], reader)\n",
    "#data.split(n_folds=5)"
   ]
  },
  {
   "cell_type": "code",
   "execution_count": 339,
   "id": "07c2eff3-e5b6-4aaa-a1a0-3583b89e9e35",
   "metadata": {},
   "outputs": [
    {
     "ename": "NameError",
     "evalue": "name 'evaluate' is not defined",
     "output_type": "error",
     "traceback": [
      "\u001b[1;31m---------------------------------------------------------------------------\u001b[0m",
      "\u001b[1;31mNameError\u001b[0m                                 Traceback (most recent call last)",
      "Cell \u001b[1;32mIn[339], line 2\u001b[0m\n\u001b[0;32m      1\u001b[0m svd \u001b[38;5;241m=\u001b[39m SVD()\n\u001b[1;32m----> 2\u001b[0m evaluate(svd, data, measures\u001b[38;5;241m=\u001b[39m[\u001b[38;5;124m'\u001b[39m\u001b[38;5;124mRMSE\u001b[39m\u001b[38;5;124m'\u001b[39m, \u001b[38;5;124m'\u001b[39m\u001b[38;5;124mMAE\u001b[39m\u001b[38;5;124m'\u001b[39m], cv\u001b[38;5;241m=\u001b[39m\u001b[38;5;241m5\u001b[39m)\n",
      "\u001b[1;31mNameError\u001b[0m: name 'evaluate' is not defined"
     ]
    }
   ],
   "source": [
    "svd = SVD()\n",
    "evaluate(svd, data, measures=['RMSE', 'MAE'], cv=5)"
   ]
  },
  {
   "cell_type": "code",
   "execution_count": 345,
   "id": "9500e3ab-f757-4c2a-a374-83d5d70a8f03",
   "metadata": {},
   "outputs": [],
   "source": [
    "from surprise.model_selection import cross_validate"
   ]
  },
  {
   "cell_type": "code",
   "execution_count": 347,
   "id": "c434530f-346c-414f-a2fb-b6a643d60e3a",
   "metadata": {},
   "outputs": [
    {
     "data": {
      "text/plain": [
       "{'test_rmse': array([nan, nan, nan, nan, nan]),\n",
       " 'test_mae': array([nan, nan, nan, nan, nan]),\n",
       " 'fit_time': (0.28414011001586914,\n",
       "  0.21296477317810059,\n",
       "  0.24068474769592285,\n",
       "  0.22263717651367188,\n",
       "  0.2422330379486084),\n",
       " 'test_time': (0.015931367874145508,\n",
       "  0.01606917381286621,\n",
       "  0.015761613845825195,\n",
       "  0.023319005966186523,\n",
       "  0.024939775466918945)}"
      ]
     },
     "execution_count": 347,
     "metadata": {},
     "output_type": "execute_result"
    }
   ],
   "source": [
    "model=SVD()\n",
    "cross_validate(model, data, measures=['rmse', 'mae'], cv=5)"
   ]
  },
  {
   "cell_type": "code",
   "execution_count": 348,
   "id": "9b2681d9-9391-4979-a42b-449fde372b07",
   "metadata": {},
   "outputs": [
    {
     "data": {
      "text/plain": [
       "<surprise.prediction_algorithms.matrix_factorization.SVD at 0x20e1fc73680>"
      ]
     },
     "execution_count": 348,
     "metadata": {},
     "output_type": "execute_result"
    }
   ],
   "source": [
    "trainset = data.build_full_trainset()\n",
    "model.fit(trainset)"
   ]
  },
  {
   "cell_type": "code",
   "execution_count": 349,
   "id": "3f40ae9b-dc18-45c9-b4b7-5c1d1528b136",
   "metadata": {},
   "outputs": [
    {
     "data": {
      "text/html": [
       "<div>\n",
       "<style scoped>\n",
       "    .dataframe tbody tr th:only-of-type {\n",
       "        vertical-align: middle;\n",
       "    }\n",
       "\n",
       "    .dataframe tbody tr th {\n",
       "        vertical-align: top;\n",
       "    }\n",
       "\n",
       "    .dataframe thead th {\n",
       "        text-align: right;\n",
       "    }\n",
       "</style>\n",
       "<table border=\"1\" class=\"dataframe\">\n",
       "  <thead>\n",
       "    <tr style=\"text-align: right;\">\n",
       "      <th></th>\n",
       "      <th>level_0</th>\n",
       "      <th>index</th>\n",
       "      <th>id</th>\n",
       "      <th>title</th>\n",
       "      <th>vote_average</th>\n",
       "      <th>vote_count</th>\n",
       "      <th>status</th>\n",
       "      <th>release_date</th>\n",
       "      <th>revenue</th>\n",
       "      <th>runtime</th>\n",
       "      <th>...</th>\n",
       "      <th>genresIdcreate</th>\n",
       "      <th>genresId</th>\n",
       "      <th>production_companies</th>\n",
       "      <th>production_countries</th>\n",
       "      <th>spoken_languages</th>\n",
       "      <th>directors</th>\n",
       "      <th>writers</th>\n",
       "      <th>averageRating</th>\n",
       "      <th>numVotes</th>\n",
       "      <th>soup</th>\n",
       "    </tr>\n",
       "  </thead>\n",
       "  <tbody>\n",
       "    <tr>\n",
       "      <th>1436</th>\n",
       "      <td>1436</td>\n",
       "      <td>1436</td>\n",
       "      <td>456740.0</td>\n",
       "      <td>Hellboy</td>\n",
       "      <td>5.554</td>\n",
       "      <td>3119.0</td>\n",
       "      <td>Released</td>\n",
       "      <td>10-04-2019</td>\n",
       "      <td>55065289.0</td>\n",
       "      <td>121.0</td>\n",
       "      <td>...</td>\n",
       "      <td>\"Fantasy, Horror, Action, Adventure\",</td>\n",
       "      <td>[{'id': 3, 'name': 'Fantasy'}, {'id': 14, 'nam...</td>\n",
       "      <td>Campbell Grobman Films, Dark Horse Entertainme...</td>\n",
       "      <td>Bulgaria, Canada, France, Portugal, United Sta...</td>\n",
       "      <td>German, English, Russian, Turkish</td>\n",
       "      <td>Neil Marshall</td>\n",
       "      <td>Andrew Cosby, Mike Mignola</td>\n",
       "      <td>5.3</td>\n",
       "      <td>102780.0</td>\n",
       "      <td>fantasy,horror,action,adventure</td>\n",
       "    </tr>\n",
       "  </tbody>\n",
       "</table>\n",
       "<p>1 rows × 28 columns</p>\n",
       "</div>"
      ],
      "text/plain": [
       "      level_0  index        id    title  vote_average  vote_count    status  \\\n",
       "1436     1436   1436  456740.0  Hellboy         5.554      3119.0  Released   \n",
       "\n",
       "     release_date     revenue  runtime  ...  \\\n",
       "1436   10-04-2019  55065289.0    121.0  ...   \n",
       "\n",
       "                             genresIdcreate  \\\n",
       "1436  \"Fantasy, Horror, Action, Adventure\",   \n",
       "\n",
       "                                               genresId  \\\n",
       "1436  [{'id': 3, 'name': 'Fantasy'}, {'id': 14, 'nam...   \n",
       "\n",
       "                                   production_companies  \\\n",
       "1436  Campbell Grobman Films, Dark Horse Entertainme...   \n",
       "\n",
       "                                   production_countries  \\\n",
       "1436  Bulgaria, Canada, France, Portugal, United Sta...   \n",
       "\n",
       "                       spoken_languages      directors  \\\n",
       "1436  German, English, Russian, Turkish  Neil Marshall   \n",
       "\n",
       "                         writers averageRating  numVotes  \\\n",
       "1436  Andrew Cosby, Mike Mignola           5.3  102780.0   \n",
       "\n",
       "                                 soup  \n",
       "1436  fantasy,horror,action,adventure  \n",
       "\n",
       "[1 rows x 28 columns]"
      ]
     },
     "execution_count": 349,
     "metadata": {},
     "output_type": "execute_result"
    }
   ],
   "source": [
    "df2[df2['id'] == 456740]"
   ]
  },
  {
   "cell_type": "code",
   "execution_count": 355,
   "id": "3e29baa7-6aea-43d4-95fe-f6e8c4389c94",
   "metadata": {},
   "outputs": [
    {
     "data": {
      "text/plain": [
       "Prediction(uid=456740, iid='Hellboy', r_ui=5.3, est=5, details={'was_impossible': False})"
      ]
     },
     "execution_count": 355,
     "metadata": {},
     "output_type": "execute_result"
    }
   ],
   "source": [
    "model.predict(456740, \"Hellboy\", 5.3)"
   ]
  },
  {
   "cell_type": "code",
   "execution_count": null,
   "id": "a62ece1c-a284-4392-bcc3-f4522729520b",
   "metadata": {},
   "outputs": [],
   "source": []
  }
 ],
 "metadata": {
  "kernelspec": {
   "display_name": "Python 3 (ipykernel)",
   "language": "python",
   "name": "python3"
  },
  "language_info": {
   "codemirror_mode": {
    "name": "ipython",
    "version": 3
   },
   "file_extension": ".py",
   "mimetype": "text/x-python",
   "name": "python",
   "nbconvert_exporter": "python",
   "pygments_lexer": "ipython3",
   "version": "3.12.3"
  }
 },
 "nbformat": 4,
 "nbformat_minor": 5
}
